{
 "cells": [
  {
   "cell_type": "code",
   "execution_count": null,
   "id": "b605ca78-1346-46ef-9396-4dd71ee54ee6",
   "metadata": {},
   "outputs": [],
   "source": [
    "# Lab 5: Recurrent Neural Network (RNN) for Sequence Prediction\n",
    "\n",
    "import numpy as np\n",
    "import matplotlib.pyplot as plt\n",
    "from tensorflow.keras.models import Sequential\n",
    "from tensorflow.keras.layers import SimpleRNN, Dense\n",
    "from sklearn.preprocessing import MinMaxScaler"
   ]
  },
  {
   "cell_type": "code",
   "execution_count": null,
   "id": "6faa711a-64ae-4a29-9185-9c2f148f3447",
   "metadata": {},
   "outputs": [],
   "source": [
    "# Generate simple sequence data: y = x + 1\n",
    "x = np.array([i for i in range(50)])\n",
    "y = np.array([i + 1 for i in range(50)])"
   ]
  },
  {
   "cell_type": "code",
   "execution_count": null,
   "id": "e92381f1-bf85-4322-830a-b48bd22d9fa7",
   "metadata": {},
   "outputs": [],
   "source": [
    "# Normalize data\n",
    "scaler = MinMaxScaler()\n",
    "x_scaled = scaler.fit_transform(x.reshape(-1, 1))\n",
    "y_scaled = scaler.transform(y.reshape(-1, 1))"
   ]
  },
  {
   "cell_type": "code",
   "execution_count": null,
   "id": "d8836587-94b1-4459-997a-bc4e938ab1b1",
   "metadata": {},
   "outputs": [],
   "source": [
    "# Create sequences for RNN input\n",
    "def create_sequences(data, seq_len):\n",
    "    X, Y = [], []\n",
    "    for i in range(len(data) - seq_len):\n",
    "        X.append(data[i:i+seq_len])\n",
    "        Y.append(data[i+seq_len])\n",
    "    return np.array(X), np.array(Y)\n",
    "\n",
    "seq_length = 3\n",
    "X_seq, y_seq = create_sequences(x_scaled, seq_length)"
   ]
  },
  {
   "cell_type": "code",
   "execution_count": null,
   "id": "37936e17-e22c-4360-9a40-84f276b4dbeb",
   "metadata": {},
   "outputs": [],
   "source": [
    "# Reshape input to 3D: (samples, timesteps, features)\n",
    "X_seq = X_seq.reshape((X_seq.shape[0], X_seq.shape[1], 1))"
   ]
  },
  {
   "cell_type": "code",
   "execution_count": null,
   "id": "3eedba89-36d5-4e01-a168-7c7f07b0a8f7",
   "metadata": {},
   "outputs": [],
   "source": [
    "# Build RNN model\n",
    "model = Sequential()\n",
    "model.add(SimpleRNN(units=10, activation='tanh', input_shape=(seq_length, 1)))\n",
    "model.add(Dense(1))\n",
    "model.compile(optimizer='adam', loss='mse')"
   ]
  },
  {
   "cell_type": "code",
   "execution_count": null,
   "id": "e6896c9a-9b05-491d-9209-1b050f835b3c",
   "metadata": {},
   "outputs": [],
   "source": [
    "# Train the model\n",
    "model.fit(X_seq, y_seq, epochs=100, verbose=0)"
   ]
  },
  {
   "cell_type": "code",
   "execution_count": null,
   "id": "74dc042b-c9f2-4eeb-aafb-96fd7e8b6f97",
   "metadata": {},
   "outputs": [],
   "source": [
    "# Predict next values\n",
    "predicted = model.predict(X_seq)"
   ]
  },
  {
   "cell_type": "code",
   "execution_count": null,
   "id": "78b69925-e3c5-4a57-aad1-67cc65a552b6",
   "metadata": {},
   "outputs": [],
   "source": [
    "# Inverse transform to original scale\n",
    "predicted_actual = scaler.inverse_transform(predicted)\n",
    "y_actual = scaler.inverse_transform(y_seq)\n"
   ]
  },
  {
   "cell_type": "code",
   "execution_count": null,
   "id": "dd703b88-884f-4b9a-8cb4-8d297eba2c7f",
   "metadata": {},
   "outputs": [],
   "source": [
    "# Plot results\n",
    "plt.plot(range(len(y_actual)), y_actual, label='Actual')\n",
    "plt.plot(range(len(predicted_actual)), predicted_actual, label='Predicted')\n",
    "plt.title(\"RNN Sequence Prediction\")\n",
    "plt.xlabel(\"Time Step\")\n",
    "plt.ylabel(\"Value\")\n",
    "plt.legend()\n",
    "plt.grid(True)\n",
    "plt.show()\n"
   ]
  },
  {
   "cell_type": "code",
   "execution_count": null,
   "id": "c1ce638b-adea-4551-ad0f-f2d9c03a7df2",
   "metadata": {},
   "outputs": [],
   "source": []
  },
  {
   "cell_type": "code",
   "execution_count": null,
   "id": "fc9b92c5-08c0-4498-b14e-64df82e5bfae",
   "metadata": {},
   "outputs": [],
   "source": []
  }
 ],
 "metadata": {
  "kernelspec": {
   "display_name": "Python [conda env:base] *",
   "language": "python",
   "name": "conda-base-py"
  },
  "language_info": {
   "codemirror_mode": {
    "name": "ipython",
    "version": 3
   },
   "file_extension": ".py",
   "mimetype": "text/x-python",
   "name": "python",
   "nbconvert_exporter": "python",
   "pygments_lexer": "ipython3",
   "version": "3.9.19"
  }
 },
 "nbformat": 4,
 "nbformat_minor": 5
}
